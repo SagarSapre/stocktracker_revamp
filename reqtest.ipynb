{
 "cells": [
  {
   "cell_type": "code",
   "execution_count": 31,
   "metadata": {},
   "outputs": [],
   "source": [
    "before_import = dir()"
   ]
  },
  {
   "cell_type": "code",
   "execution_count": 32,
   "metadata": {},
   "outputs": [],
   "source": [
    "import requests\n",
    "import time"
   ]
  },
  {
   "cell_type": "code",
   "execution_count": 33,
   "metadata": {},
   "outputs": [],
   "source": [
    "after_import = dir()"
   ]
  },
  {
   "cell_type": "code",
   "execution_count": 34,
   "metadata": {},
   "outputs": [
    {
     "name": "stdout",
     "output_type": "stream",
     "text": [
      "{'_i32', '_i33'}\n"
     ]
    }
   ],
   "source": [
    "new_imports = set(after_import) - set(before_import)\n",
    "print(new_imports)\n"
   ]
  },
  {
   "cell_type": "code",
   "execution_count": 35,
   "metadata": {},
   "outputs": [],
   "source": [
    "# Create a Request object\n",
    "url = \"https://books.toscrape.com/\"\n",
    "#payload = {\"key\": \"value\"}\n",
    "#headers = {\"Authorization\": \"Bearer token\"}"
   ]
  },
  {
   "cell_type": "code",
   "execution_count": 36,
   "metadata": {},
   "outputs": [],
   "source": [
    "# Create a prepared request\n",
    "req = requests.Request('GET', url ) # data=payload, headers=headers\n",
    "prepared = req.prepare()"
   ]
  },
  {
   "cell_type": "code",
   "execution_count": 37,
   "metadata": {},
   "outputs": [
    {
     "name": "stdout",
     "output_type": "stream",
     "text": [
      "URL: https://books.toscrape.com/\n",
      "Headers: {}\n",
      "Body: None\n"
     ]
    }
   ],
   "source": [
    "# Now you can inspect the prepared request before sending it\n",
    "print(f\"URL: {prepared.url}\")\n",
    "print(f\"Headers: {prepared.headers}\")\n",
    "print(f\"Body: {prepared.body}\")"
   ]
  },
  {
   "cell_type": "code",
   "execution_count": 38,
   "metadata": {},
   "outputs": [
    {
     "name": "stdout",
     "output_type": "stream",
     "text": [
      "Response: 200\n"
     ]
    }
   ],
   "source": [
    "with requests.Session() as session:\n",
    "    response = session.send(prepared)\n",
    "    print(f\"Response: {response.status_code}\")\n",
    "    time.sleep(20)\n",
    "    #print(f\"Response Body: {response.text}\")"
   ]
  },
  {
   "cell_type": "code",
   "execution_count": 39,
   "metadata": {},
   "outputs": [],
   "source": [
    "a=type(response)"
   ]
  },
  {
   "cell_type": "code",
   "execution_count": 40,
   "metadata": {},
   "outputs": [
    {
     "name": "stdout",
     "output_type": "stream",
     "text": [
      "<class 'requests.models.Response'>\n"
     ]
    }
   ],
   "source": [
    "print(a)"
   ]
  },
  {
   "cell_type": "code",
   "execution_count": 41,
   "metadata": {},
   "outputs": [
    {
     "name": "stdout",
     "output_type": "stream",
     "text": [
      "['__attrs__', '__bool__', '__class__', '__delattr__', '__dict__', '__dir__', '__doc__', '__enter__', '__eq__', '__exit__', '__format__', '__ge__', '__getattribute__', '__getstate__', '__gt__', '__hash__', '__init__', '__init_subclass__', '__iter__', '__le__', '__lt__', '__module__', '__ne__', '__new__', '__nonzero__', '__reduce__', '__reduce_ex__', '__repr__', '__setattr__', '__setstate__', '__sizeof__', '__str__', '__subclasshook__', '__weakref__', 'apparent_encoding', 'close', 'content', 'is_permanent_redirect', 'is_redirect', 'iter_content', 'iter_lines', 'json', 'links', 'next', 'ok', 'raise_for_status', 'text']\n"
     ]
    }
   ],
   "source": [
    "print(dir(a))"
   ]
  },
  {
   "cell_type": "code",
   "execution_count": 42,
   "metadata": {},
   "outputs": [
    {
     "name": "stdout",
     "output_type": "stream",
     "text": [
      "__attrs__\n"
     ]
    }
   ],
   "source": [
    "print(dir(a)[0])"
   ]
  },
  {
   "cell_type": "code",
   "execution_count": 43,
   "metadata": {},
   "outputs": [
    {
     "name": "stdout",
     "output_type": "stream",
     "text": [
      "['_content', 'status_code', 'headers', 'url', 'history', 'encoding', 'reason', 'cookies', 'elapsed', 'request']\n"
     ]
    }
   ],
   "source": [
    "print(a.__attrs__)"
   ]
  },
  {
   "cell_type": "code",
   "execution_count": 44,
   "metadata": {},
   "outputs": [
    {
     "name": "stdout",
     "output_type": "stream",
     "text": [
      "_content\n"
     ]
    }
   ],
   "source": [
    "print(a.__attrs__[0])"
   ]
  },
  {
   "cell_type": "code",
   "execution_count": 45,
   "metadata": {},
   "outputs": [
    {
     "name": "stdout",
     "output_type": "stream",
     "text": [
      "{'__module__': 'requests.models', '__doc__': \"The :class:`Response <Response>` object, which contains a\\n    server's response to an HTTP request.\\n    \", '__attrs__': ['_content', 'status_code', 'headers', 'url', 'history', 'encoding', 'reason', 'cookies', 'elapsed', 'request'], '__init__': <function Response.__init__ at 0x0000021B2DE488B0>, '__enter__': <function Response.__enter__ at 0x0000021B2DE48940>, '__exit__': <function Response.__exit__ at 0x0000021B2DE489D0>, '__getstate__': <function Response.__getstate__ at 0x0000021B2DE48A60>, '__setstate__': <function Response.__setstate__ at 0x0000021B2DE48AF0>, '__repr__': <function Response.__repr__ at 0x0000021B2DE48B80>, '__bool__': <function Response.__bool__ at 0x0000021B2DE48C10>, '__nonzero__': <function Response.__nonzero__ at 0x0000021B2DE48CA0>, '__iter__': <function Response.__iter__ at 0x0000021B2DE48D30>, 'ok': <property object at 0x0000021B2DE45D60>, 'is_redirect': <property object at 0x0000021B2DE45DB0>, 'is_permanent_redirect': <property object at 0x0000021B2DE45E00>, 'next': <property object at 0x0000021B2DE45E50>, 'apparent_encoding': <property object at 0x0000021B2DE45EA0>, 'iter_content': <function Response.iter_content at 0x0000021B2DE490D0>, 'iter_lines': <function Response.iter_lines at 0x0000021B2DE49160>, 'content': <property object at 0x0000021B2DE45F40>, 'text': <property object at 0x0000021B2DE45EF0>, 'json': <function Response.json at 0x0000021B2DE49310>, 'links': <property object at 0x0000021B2DE45F90>, 'raise_for_status': <function Response.raise_for_status at 0x0000021B2DE49430>, 'close': <function Response.close at 0x0000021B2DE494C0>, '__dict__': <attribute '__dict__' of 'Response' objects>, '__weakref__': <attribute '__weakref__' of 'Response' objects>}\n"
     ]
    }
   ],
   "source": [
    "print(a.__dict__)"
   ]
  }
 ],
 "metadata": {
  "kernelspec": {
   "display_name": "base",
   "language": "python",
   "name": "python3"
  },
  "language_info": {
   "codemirror_mode": {
    "name": "ipython",
    "version": 3
   },
   "file_extension": ".py",
   "mimetype": "text/x-python",
   "name": "python",
   "nbconvert_exporter": "python",
   "pygments_lexer": "ipython3",
   "version": "3.9.12"
  }
 },
 "nbformat": 4,
 "nbformat_minor": 2
}
